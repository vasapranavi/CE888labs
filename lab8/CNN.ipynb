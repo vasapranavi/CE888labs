{
 "cells": [
  {
   "cell_type": "code",
   "execution_count": 22,
   "metadata": {},
   "outputs": [],
   "source": [
    "from keras import layers\n",
    "from keras import models\n",
    "import keras"
   ]
  },
  {
   "cell_type": "markdown",
   "metadata": {},
   "source": [
    "Importantly, a convnet takes as input tensors of shape (image_height, image_width,\n",
    "image_channels) (not including the batch dimension). In this case, we’ll configure\n",
    "the convnet to process inputs of size (28, 28, 1), which is the format of MNIST\n",
    "images. We’ll do this by passing the argument input_shape=(28, 28, 1) to the first\n",
    "layer."
   ]
  },
  {
   "cell_type": "markdown",
   "metadata": {},
   "source": [
    "#### Instantiating a small convnet"
   ]
  },
  {
   "cell_type": "code",
   "execution_count": 3,
   "metadata": {},
   "outputs": [
    {
     "name": "stdout",
     "output_type": "stream",
     "text": [
      "_________________________________________________________________\n",
      "Layer (type)                 Output Shape              Param #   \n",
      "=================================================================\n",
      "conv2d_4 (Conv2D)            (None, 26, 26, 32)        320       \n",
      "_________________________________________________________________\n",
      "max_pooling2d_3 (MaxPooling2 (None, 13, 13, 32)        0         \n",
      "_________________________________________________________________\n",
      "conv2d_5 (Conv2D)            (None, 11, 11, 64)        18496     \n",
      "_________________________________________________________________\n",
      "max_pooling2d_4 (MaxPooling2 (None, 5, 5, 64)          0         \n",
      "_________________________________________________________________\n",
      "conv2d_6 (Conv2D)            (None, 3, 3, 64)          36928     \n",
      "=================================================================\n",
      "Total params: 55,744\n",
      "Trainable params: 55,744\n",
      "Non-trainable params: 0\n",
      "_________________________________________________________________\n"
     ]
    }
   ],
   "source": [
    "model = models.Sequential()\n",
    "model.add(layers.Conv2D(32, (3, 3), activation='relu', input_shape=(28, 28, 1)))\n",
    "model.add(layers.MaxPooling2D((2, 2)))\n",
    "model.add(layers.Conv2D(64, (3, 3), activation='relu'))\n",
    "model.add(layers.MaxPooling2D((2, 2)))\n",
    "model.add(layers.Conv2D(64, (3, 3), activation='relu'))\n",
    "model.summary()"
   ]
  },
  {
   "cell_type": "markdown",
   "metadata": {},
   "source": [
    "#### Adding a classifier on top of the convnet"
   ]
  },
  {
   "cell_type": "code",
   "execution_count": 4,
   "metadata": {},
   "outputs": [
    {
     "name": "stdout",
     "output_type": "stream",
     "text": [
      "_________________________________________________________________\n",
      "Layer (type)                 Output Shape              Param #   \n",
      "=================================================================\n",
      "conv2d_4 (Conv2D)            (None, 26, 26, 32)        320       \n",
      "_________________________________________________________________\n",
      "max_pooling2d_3 (MaxPooling2 (None, 13, 13, 32)        0         \n",
      "_________________________________________________________________\n",
      "conv2d_5 (Conv2D)            (None, 11, 11, 64)        18496     \n",
      "_________________________________________________________________\n",
      "max_pooling2d_4 (MaxPooling2 (None, 5, 5, 64)          0         \n",
      "_________________________________________________________________\n",
      "conv2d_6 (Conv2D)            (None, 3, 3, 64)          36928     \n",
      "_________________________________________________________________\n",
      "flatten_1 (Flatten)          (None, 576)               0         \n",
      "_________________________________________________________________\n",
      "dense_1 (Dense)              (None, 64)                36928     \n",
      "_________________________________________________________________\n",
      "dense_2 (Dense)              (None, 10)                650       \n",
      "=================================================================\n",
      "Total params: 93,322\n",
      "Trainable params: 93,322\n",
      "Non-trainable params: 0\n",
      "_________________________________________________________________\n"
     ]
    }
   ],
   "source": [
    "model.add(layers.Flatten())\n",
    "model.add(layers.Dense(64, activation='relu'))\n",
    "model.add(layers.Dense(10, activation='softmax'))\n",
    "model.summary()"
   ]
  },
  {
   "cell_type": "markdown",
   "metadata": {},
   "source": [
    "### Training the convnet on MNIST images"
   ]
  },
  {
   "cell_type": "code",
   "execution_count": 5,
   "metadata": {},
   "outputs": [],
   "source": [
    "from keras.datasets import mnist\n",
    "from keras.utils import to_categorical"
   ]
  },
  {
   "cell_type": "markdown",
   "metadata": {},
   "source": [
    "#### Load Data"
   ]
  },
  {
   "cell_type": "code",
   "execution_count": 6,
   "metadata": {},
   "outputs": [
    {
     "name": "stdout",
     "output_type": "stream",
     "text": [
      "Downloading data from https://s3.amazonaws.com/img-datasets/mnist.npz\n",
      "11337728/11490434 [============================>.] - ETA: 0s"
     ]
    }
   ],
   "source": [
    "(train_images, train_labels), (test_images, test_labels) = mnist.load_data()\n",
    "train_images = train_images.reshape((60000, 28, 28, 1))\n",
    "train_images = train_images.astype('float32') / 255\n",
    "test_images = test_images.reshape((10000, 28, 28, 1))\n",
    "test_images = test_images.astype('float32') / 255\n",
    "train_labels = to_categorical(train_labels)\n",
    "test_labels = to_categorical(test_labels)"
   ]
  },
  {
   "cell_type": "markdown",
   "metadata": {},
   "source": [
    "#### compile and fit model "
   ]
  },
  {
   "cell_type": "code",
   "execution_count": 7,
   "metadata": {},
   "outputs": [
    {
     "name": "stdout",
     "output_type": "stream",
     "text": [
      "Train on 48000 samples, validate on 12000 samples\n",
      "Epoch 1/5\n",
      "48000/48000 [==============================] - 59s - loss: 0.2045 - acc: 0.9350 - val_loss: 0.0703 - val_acc: 0.9783\n",
      "Epoch 2/5\n",
      "48000/48000 [==============================] - 60s - loss: 0.0536 - acc: 0.9834 - val_loss: 0.0485 - val_acc: 0.9849\n",
      "Epoch 3/5\n",
      "48000/48000 [==============================] - 59s - loss: 0.0361 - acc: 0.9887 - val_loss: 0.0457 - val_acc: 0.9877\n",
      "Epoch 4/5\n",
      "48000/48000 [==============================] - 59s - loss: 0.0265 - acc: 0.9916 - val_loss: 0.0421 - val_acc: 0.9882\n",
      "Epoch 5/5\n",
      "48000/48000 [==============================] - 54s - loss: 0.0204 - acc: 0.9934 - val_loss: 0.0394 - val_acc: 0.9901\n"
     ]
    }
   ],
   "source": [
    "model.compile(optimizer='rmsprop', \n",
    "              loss='categorical_crossentropy',\n",
    "              metrics=['accuracy'])\n",
    "history = model.fit(train_images, train_labels, epochs=5, batch_size=64, validation_split=0.2)"
   ]
  },
  {
   "cell_type": "markdown",
   "metadata": {},
   "source": [
    "#### evaluate model"
   ]
  },
  {
   "cell_type": "code",
   "execution_count": 8,
   "metadata": {},
   "outputs": [
    {
     "name": "stdout",
     "output_type": "stream",
     "text": [
      " 9984/10000 [============================>.] - ETA: 0s"
     ]
    },
    {
     "data": {
      "text/plain": [
       "0.9918"
      ]
     },
     "execution_count": 8,
     "metadata": {},
     "output_type": "execute_result"
    }
   ],
   "source": [
    "test_loss, test_acc = model.evaluate(test_images, test_labels)\n",
    "test_acc"
   ]
  },
  {
   "cell_type": "code",
   "execution_count": 10,
   "metadata": {},
   "outputs": [
    {
     "data": {
      "image/png": "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\n",
      "text/plain": [
       "<Figure size 432x288 with 1 Axes>"
      ]
     },
     "metadata": {
      "needs_background": "light"
     },
     "output_type": "display_data"
    },
    {
     "data": {
      "image/png": "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\n",
      "text/plain": [
       "<Figure size 432x288 with 1 Axes>"
      ]
     },
     "metadata": {
      "needs_background": "light"
     },
     "output_type": "display_data"
    }
   ],
   "source": [
    "import matplotlib.pyplot as plt\n",
    "\n",
    "acc = history.history['acc']\n",
    "val_acc = history.history['val_acc']\n",
    "loss = history.history['loss']\n",
    "val_loss = history.history['val_loss']\n",
    "\n",
    "epochs = range(1, len(acc) + 1)\n",
    "\n",
    "plt.plot(epochs, acc, 'bo', label='Training acc')\n",
    "plt.plot(epochs, val_acc, 'b', label='Validation acc')\n",
    "plt.title('Training and validation accuracy')\n",
    "plt.legend()\n",
    "\n",
    "plt.figure()\n",
    "\n",
    "plt.plot(epochs, loss, 'bo', label='Training loss')\n",
    "plt.plot(epochs, val_loss, 'b', label='Validation loss')\n",
    "plt.title('Training and validation loss')\n",
    "plt.legend()\n",
    "\n",
    "plt.show()"
   ]
  },
  {
   "cell_type": "markdown",
   "metadata": {},
   "source": [
    "** Exercise:  **\n",
    "\n",
    "Change the activation function and other parameters such as optimizer to see the effect on the network and it's performance."
   ]
  },
  {
   "cell_type": "markdown",
   "metadata": {},
   "source": [
    "# Adding different activation function"
   ]
  },
  {
   "cell_type": "code",
   "execution_count": 11,
   "metadata": {},
   "outputs": [
    {
     "name": "stdout",
     "output_type": "stream",
     "text": [
      "_________________________________________________________________\n",
      "Layer (type)                 Output Shape              Param #   \n",
      "=================================================================\n",
      "conv2d_7 (Conv2D)            (None, 26, 26, 32)        320       \n",
      "_________________________________________________________________\n",
      "max_pooling2d_5 (MaxPooling2 (None, 13, 13, 32)        0         \n",
      "_________________________________________________________________\n",
      "conv2d_8 (Conv2D)            (None, 11, 11, 64)        18496     \n",
      "_________________________________________________________________\n",
      "max_pooling2d_6 (MaxPooling2 (None, 5, 5, 64)          0         \n",
      "_________________________________________________________________\n",
      "conv2d_9 (Conv2D)            (None, 3, 3, 64)          36928     \n",
      "_________________________________________________________________\n",
      "flatten_2 (Flatten)          (None, 576)               0         \n",
      "_________________________________________________________________\n",
      "dense_3 (Dense)              (None, 64)                36928     \n",
      "_________________________________________________________________\n",
      "dense_4 (Dense)              (None, 10)                650       \n",
      "=================================================================\n",
      "Total params: 93,322\n",
      "Trainable params: 93,322\n",
      "Non-trainable params: 0\n",
      "_________________________________________________________________\n"
     ]
    }
   ],
   "source": [
    "model = models.Sequential()\n",
    "model.add(layers.Conv2D(32, (3, 3), activation='sigmoid', input_shape=(28, 28, 1)))\n",
    "model.add(layers.MaxPooling2D((2, 2)))\n",
    "model.add(layers.Conv2D(64, (3, 3), activation='sigmoid'))\n",
    "model.add(layers.MaxPooling2D((2, 2)))\n",
    "model.add(layers.Conv2D(64, (3, 3), activation='sigmoid'))\n",
    "#model.summary()\n",
    "model.add(layers.Flatten())\n",
    "model.add(layers.Dense(64, activation='sigmoid'))\n",
    "model.add(layers.Dense(10, activation='softmax'))\n",
    "model.summary()"
   ]
  },
  {
   "cell_type": "code",
   "execution_count": 12,
   "metadata": {},
   "outputs": [
    {
     "name": "stdout",
     "output_type": "stream",
     "text": [
      "Train on 48000 samples, validate on 12000 samples\n",
      "Epoch 1/5\n",
      "48000/48000 [==============================] - 83s - loss: 1.0859 - acc: 0.6380 - val_loss: 0.3021 - val_acc: 0.9126\n",
      "Epoch 2/5\n",
      "48000/48000 [==============================] - 82s - loss: 0.2027 - acc: 0.9412 - val_loss: 0.1289 - val_acc: 0.9613\n",
      "Epoch 3/5\n",
      "48000/48000 [==============================] - 78s - loss: 0.1157 - acc: 0.9644 - val_loss: 0.0887 - val_acc: 0.9736\n",
      "Epoch 4/5\n",
      "48000/48000 [==============================] - 81s - loss: 0.0840 - acc: 0.9742 - val_loss: 0.0797 - val_acc: 0.9755\n",
      "Epoch 5/5\n",
      "48000/48000 [==============================] - 83s - loss: 0.0662 - acc: 0.9805 - val_loss: 0.0635 - val_acc: 0.9810\n"
     ]
    }
   ],
   "source": [
    "model.compile(optimizer='rmsprop', \n",
    "              loss='categorical_crossentropy',\n",
    "              metrics=['accuracy'])\n",
    "history = model.fit(train_images, train_labels, epochs=5, batch_size=64, validation_split=0.2)"
   ]
  },
  {
   "cell_type": "code",
   "execution_count": 14,
   "metadata": {},
   "outputs": [
    {
     "name": "stdout",
     "output_type": "stream",
     "text": [
      " 9984/10000 [============================>.] - ETA: 0s"
     ]
    },
    {
     "data": {
      "image/png": "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\n",
      "text/plain": [
       "<Figure size 432x288 with 1 Axes>"
      ]
     },
     "metadata": {
      "needs_background": "light"
     },
     "output_type": "display_data"
    },
    {
     "data": {
      "image/png": "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\n",
      "text/plain": [
       "<Figure size 432x288 with 1 Axes>"
      ]
     },
     "metadata": {
      "needs_background": "light"
     },
     "output_type": "display_data"
    },
    {
     "data": {
      "text/plain": [
       "0.9821"
      ]
     },
     "execution_count": 14,
     "metadata": {},
     "output_type": "execute_result"
    }
   ],
   "source": [
    "test_loss, test_acc = model.evaluate(test_images, test_labels)\n",
    "acc = history.history['acc']\n",
    "val_acc = history.history['val_acc']\n",
    "loss = history.history['loss']\n",
    "val_loss = history.history['val_loss']\n",
    "\n",
    "epochs = range(1, len(acc) + 1)\n",
    "\n",
    "plt.plot(epochs, acc, 'bo', label='Training acc')\n",
    "plt.plot(epochs, val_acc, 'b', label='Validation acc')\n",
    "plt.title('Training and validation accuracy')\n",
    "plt.legend()\n",
    "\n",
    "plt.figure()\n",
    "\n",
    "plt.plot(epochs, loss, 'bo', label='Training loss')\n",
    "plt.plot(epochs, val_loss, 'b', label='Validation loss')\n",
    "plt.title('Training and validation loss')\n",
    "plt.legend()\n",
    "\n",
    "plt.show()\n",
    "test_acc"
   ]
  },
  {
   "cell_type": "markdown",
   "metadata": {},
   "source": [
    "# Trying with different optimiser"
   ]
  },
  {
   "cell_type": "code",
   "execution_count": 15,
   "metadata": {},
   "outputs": [
    {
     "name": "stdout",
     "output_type": "stream",
     "text": [
      "_________________________________________________________________\n",
      "Layer (type)                 Output Shape              Param #   \n",
      "=================================================================\n",
      "conv2d_10 (Conv2D)           (None, 26, 26, 32)        320       \n",
      "_________________________________________________________________\n",
      "max_pooling2d_7 (MaxPooling2 (None, 13, 13, 32)        0         \n",
      "_________________________________________________________________\n",
      "conv2d_11 (Conv2D)           (None, 11, 11, 64)        18496     \n",
      "_________________________________________________________________\n",
      "max_pooling2d_8 (MaxPooling2 (None, 5, 5, 64)          0         \n",
      "_________________________________________________________________\n",
      "conv2d_12 (Conv2D)           (None, 3, 3, 64)          36928     \n",
      "_________________________________________________________________\n",
      "flatten_3 (Flatten)          (None, 576)               0         \n",
      "_________________________________________________________________\n",
      "dense_5 (Dense)              (None, 64)                36928     \n",
      "_________________________________________________________________\n",
      "dense_6 (Dense)              (None, 10)                650       \n",
      "=================================================================\n",
      "Total params: 93,322\n",
      "Trainable params: 93,322\n",
      "Non-trainable params: 0\n",
      "_________________________________________________________________\n"
     ]
    }
   ],
   "source": [
    "model = models.Sequential()\n",
    "model.add(layers.Conv2D(32, (3, 3), activation='sigmoid', input_shape=(28, 28, 1)))\n",
    "model.add(layers.MaxPooling2D((2, 2)))\n",
    "model.add(layers.Conv2D(64, (3, 3), activation='sigmoid'))\n",
    "model.add(layers.MaxPooling2D((2, 2)))\n",
    "model.add(layers.Conv2D(64, (3, 3), activation='sigmoid'))\n",
    "#model.summary()\n",
    "model.add(layers.Flatten())\n",
    "model.add(layers.Dense(64, activation='sigmoid'))\n",
    "model.add(layers.Dense(10, activation='softmax'))\n",
    "model.summary()"
   ]
  },
  {
   "cell_type": "code",
   "execution_count": 16,
   "metadata": {},
   "outputs": [
    {
     "name": "stdout",
     "output_type": "stream",
     "text": [
      "Train on 48000 samples, validate on 12000 samples\n",
      "Epoch 1/5\n",
      "48000/48000 [==============================] - 91s - loss: 2.3035 - acc: 0.1115 - val_loss: 2.3027 - val_acc: 0.1081\n",
      "Epoch 2/5\n",
      "48000/48000 [==============================] - 109s - loss: 2.3024 - acc: 0.1113 - val_loss: 2.3033 - val_acc: 0.1060\n",
      "Epoch 3/5\n",
      "48000/48000 [==============================] - 91s - loss: 2.3023 - acc: 0.1119 - val_loss: 2.3022 - val_acc: 0.0997\n",
      "Epoch 4/5\n",
      "48000/48000 [==============================] - 80s - loss: 2.3022 - acc: 0.1091 - val_loss: 2.3034 - val_acc: 0.1060\n",
      "Epoch 5/5\n",
      "48000/48000 [==============================] - 75s - loss: 2.3021 - acc: 0.1120 - val_loss: 2.3040 - val_acc: 0.1060\n"
     ]
    }
   ],
   "source": [
    "model.compile(optimizer='sgd', \n",
    "              loss='categorical_crossentropy',\n",
    "              metrics=['accuracy'])\n",
    "history = model.fit(train_images, train_labels, epochs=5, batch_size=64, validation_split=0.2)"
   ]
  },
  {
   "cell_type": "code",
   "execution_count": 17,
   "metadata": {},
   "outputs": [
    {
     "name": "stdout",
     "output_type": "stream",
     "text": [
      " 9920/10000 [============================>.] - ETA: 0s"
     ]
    }
   ],
   "source": [
    "test_loss, test_acc = model.evaluate(test_images, test_labels)"
   ]
  },
  {
   "cell_type": "code",
   "execution_count": 18,
   "metadata": {},
   "outputs": [
    {
     "data": {
      "image/png": "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\n",
      "text/plain": [
       "<Figure size 432x288 with 1 Axes>"
      ]
     },
     "metadata": {
      "needs_background": "light"
     },
     "output_type": "display_data"
    },
    {
     "data": {
      "image/png": "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\n",
      "text/plain": [
       "<Figure size 432x288 with 1 Axes>"
      ]
     },
     "metadata": {
      "needs_background": "light"
     },
     "output_type": "display_data"
    },
    {
     "data": {
      "text/plain": [
       "0.1135"
      ]
     },
     "execution_count": 18,
     "metadata": {},
     "output_type": "execute_result"
    }
   ],
   "source": [
    "acc = history.history['acc']\n",
    "val_acc = history.history['val_acc']\n",
    "loss = history.history['loss']\n",
    "val_loss = history.history['val_loss']\n",
    "\n",
    "epochs = range(1, len(acc) + 1)\n",
    "\n",
    "plt.plot(epochs, acc, 'bo', label='Training acc')\n",
    "plt.plot(epochs, val_acc, 'b', label='Validation acc')\n",
    "plt.title('Training and validation accuracy')\n",
    "plt.legend()\n",
    "\n",
    "plt.figure()\n",
    "\n",
    "plt.plot(epochs, loss, 'bo', label='Training loss')\n",
    "plt.plot(epochs, val_loss, 'b', label='Validation loss')\n",
    "plt.title('Training and validation loss')\n",
    "plt.legend()\n",
    "\n",
    "plt.show()\n",
    "test_acc"
   ]
  },
  {
   "cell_type": "markdown",
   "metadata": {},
   "source": [
    "# "
   ]
  },
  {
   "cell_type": "code",
   "execution_count": 19,
   "metadata": {},
   "outputs": [
    {
     "name": "stdout",
     "output_type": "stream",
     "text": [
      "_________________________________________________________________\n",
      "Layer (type)                 Output Shape              Param #   \n",
      "=================================================================\n",
      "conv2d_13 (Conv2D)           (None, 26, 26, 32)        320       \n",
      "_________________________________________________________________\n",
      "max_pooling2d_9 (MaxPooling2 (None, 13, 13, 32)        0         \n",
      "_________________________________________________________________\n",
      "conv2d_14 (Conv2D)           (None, 11, 11, 64)        18496     \n",
      "_________________________________________________________________\n",
      "max_pooling2d_10 (MaxPooling (None, 5, 5, 64)          0         \n",
      "_________________________________________________________________\n",
      "conv2d_15 (Conv2D)           (None, 3, 3, 64)          36928     \n",
      "_________________________________________________________________\n",
      "flatten_4 (Flatten)          (None, 576)               0         \n",
      "_________________________________________________________________\n",
      "dense_7 (Dense)              (None, 64)                36928     \n",
      "_________________________________________________________________\n",
      "dense_8 (Dense)              (None, 10)                650       \n",
      "=================================================================\n",
      "Total params: 93,322\n",
      "Trainable params: 93,322\n",
      "Non-trainable params: 0\n",
      "_________________________________________________________________\n"
     ]
    }
   ],
   "source": [
    "model = models.Sequential()\n",
    "model.add(layers.Conv2D(32, (3, 3), activation='sigmoid', input_shape=(28, 28, 1)))\n",
    "model.add(layers.MaxPooling2D((2, 2)))\n",
    "model.add(layers.Conv2D(64, (3, 3), activation='sigmoid'))\n",
    "model.add(layers.MaxPooling2D((2, 2)))\n",
    "model.add(layers.Conv2D(64, (3, 3), activation='sigmoid'))\n",
    "#model.summary()\n",
    "model.add(layers.Flatten())\n",
    "model.add(layers.Dense(64, activation='sigmoid'))\n",
    "model.add(layers.Dense(10, activation='softmax'))\n",
    "model.summary()"
   ]
  },
  {
   "cell_type": "code",
   "execution_count": 24,
   "metadata": {},
   "outputs": [
    {
     "name": "stdout",
     "output_type": "stream",
     "text": [
      "Train on 48000 samples, validate on 12000 samples\n",
      "Epoch 1/5\n",
      "48000/48000 [==============================] - 104s - loss: 1.1368 - acc: 0.6344 - val_loss: 0.4084 - val_acc: 0.8920\n",
      "Epoch 2/5\n",
      "48000/48000 [==============================] - 102s - loss: 0.3507 - acc: 0.9052 - val_loss: 0.2720 - val_acc: 0.9254\n",
      "Epoch 3/5\n",
      "48000/48000 [==============================] - 104s - loss: 0.2541 - acc: 0.9302 - val_loss: 0.2115 - val_acc: 0.9437\n",
      "Epoch 4/5\n",
      "48000/48000 [==============================] - 104s - loss: 0.2044 - acc: 0.9441 - val_loss: 0.1769 - val_acc: 0.9514\n",
      "Epoch 5/5\n",
      "48000/48000 [==============================] - 104s - loss: 0.1739 - acc: 0.9518 - val_loss: 0.1554 - val_acc: 0.9585\n"
     ]
    }
   ],
   "source": [
    "#adagrand = keras.optimizers.Adagrad(lr=0.01, epsilon=None, decay=0.0)\n",
    "model.compile(optimizer= 'adagrad', \n",
    "              loss='categorical_crossentropy',\n",
    "              metrics=['accuracy'])\n",
    "history = model.fit(train_images, train_labels, epochs=5, batch_size=64, validation_split=0.2)"
   ]
  },
  {
   "cell_type": "code",
   "execution_count": 25,
   "metadata": {},
   "outputs": [
    {
     "name": "stdout",
     "output_type": "stream",
     "text": [
      "10000/10000 [==============================] - 8s     \n"
     ]
    }
   ],
   "source": [
    "test_loss, test_acc = model.evaluate(test_images, test_labels)"
   ]
  },
  {
   "cell_type": "code",
   "execution_count": 26,
   "metadata": {},
   "outputs": [
    {
     "data": {
      "image/png": "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\n",
      "text/plain": [
       "<Figure size 432x288 with 1 Axes>"
      ]
     },
     "metadata": {
      "needs_background": "light"
     },
     "output_type": "display_data"
    },
    {
     "data": {
      "image/png": "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\n",
      "text/plain": [
       "<Figure size 432x288 with 1 Axes>"
      ]
     },
     "metadata": {
      "needs_background": "light"
     },
     "output_type": "display_data"
    },
    {
     "data": {
      "text/plain": [
       "0.9582"
      ]
     },
     "execution_count": 26,
     "metadata": {},
     "output_type": "execute_result"
    }
   ],
   "source": [
    "acc = history.history['acc']\n",
    "val_acc = history.history['val_acc']\n",
    "loss = history.history['loss']\n",
    "val_loss = history.history['val_loss']\n",
    "\n",
    "epochs = range(1, len(acc) + 1)\n",
    "\n",
    "plt.plot(epochs, acc, 'bo', label='Training acc')\n",
    "plt.plot(epochs, val_acc, 'b', label='Validation acc')\n",
    "plt.title('Training and validation accuracy')\n",
    "plt.legend()\n",
    "\n",
    "plt.figure()\n",
    "\n",
    "plt.plot(epochs, loss, 'bo', label='Training loss')\n",
    "plt.plot(epochs, val_loss, 'b', label='Validation loss')\n",
    "plt.title('Training and validation loss')\n",
    "plt.legend()\n",
    "\n",
    "plt.show()\n",
    "test_acc"
   ]
  },
  {
   "cell_type": "code",
   "execution_count": null,
   "metadata": {},
   "outputs": [],
   "source": []
  }
 ],
 "metadata": {
  "kernelspec": {
   "display_name": "Python 3",
   "language": "python",
   "name": "python3"
  },
  "language_info": {
   "codemirror_mode": {
    "name": "ipython",
    "version": 3
   },
   "file_extension": ".py",
   "mimetype": "text/x-python",
   "name": "python",
   "nbconvert_exporter": "python",
   "pygments_lexer": "ipython3",
   "version": "3.6.8"
  }
 },
 "nbformat": 4,
 "nbformat_minor": 2
}
##
