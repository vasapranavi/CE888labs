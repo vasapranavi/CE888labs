{
 "cells": [
  {
   "cell_type": "code",
   "execution_count": 6,
   "metadata": {},
   "outputs": [
    {
     "data": {
      "text/plain": [
       "'2.0.7'"
      ]
     },
     "execution_count": 6,
     "metadata": {},
     "output_type": "execute_result"
    }
   ],
   "source": [
    "import keras\n",
    "from keras import models\n",
    "keras.__version__"
   ]
  },
  {
   "cell_type": "code",
   "execution_count": 2,
   "metadata": {},
   "outputs": [
    {
     "name": "stdout",
     "output_type": "stream",
     "text": [
      "Found 9 unique tokens.\n"
     ]
    }
   ],
   "source": [
    "from keras.preprocessing.text import Tokenizer\n",
    "samples = ['The cat sat on the mat.', 'The dog ate my homework.']\n",
    "\n",
    "# We create a tokenizer, configured to only take into account the top-1000 most common words\n",
    "tokenizer = Tokenizer(num_words=1000)\n",
    "\n",
    "# This builds the word index\n",
    "tokenizer.fit_on_texts(samples)\n",
    "\n",
    "# This turns strings into lists of integer indices.\n",
    "sequences = tokenizer.texts_to_sequences(samples)\n",
    "\n",
    "# You could also directly get the one-hot binary representations.\n",
    "# Note that other vectorization modes than one-hot encoding are supported!\n",
    "one_hot_results = tokenizer.texts_to_matrix(samples, mode='binary')\n",
    "\n",
    "# This is how you can recover the word index that was computed\n",
    "word_index = tokenizer.word_index\n",
    "print('Found %s unique tokens.' % len(word_index))"
   ]
  },
  {
   "cell_type": "code",
   "execution_count": 3,
   "metadata": {},
   "outputs": [
    {
     "data": {
      "text/plain": [
       "array([[0., 1., 1., ..., 0., 0., 0.],\n",
       "       [0., 1., 0., ..., 0., 0., 0.]])"
      ]
     },
     "execution_count": 3,
     "metadata": {},
     "output_type": "execute_result"
    }
   ],
   "source": [
    "one_hot_results"
   ]
  },
  {
   "cell_type": "markdown",
   "metadata": {},
   "source": [
    "Using word-embeddings "
   ]
  },
  {
   "cell_type": "code",
   "execution_count": 4,
   "metadata": {},
   "outputs": [
    {
     "name": "stdout",
     "output_type": "stream",
     "text": [
      "Loading data...\n",
      "Downloading data from https://s3.amazonaws.com/text-datasets/imdb.npz\n",
      "17448960/17464789 [============================>.] - ETA: 0s25000 train sequences\n",
      "25000 test sequences\n",
      "Pad sequences (samples x time)\n",
      "input_train shape: (25000, 500)\n",
      "input_test shape: (25000, 500)\n"
     ]
    }
   ],
   "source": [
    "from keras.datasets import imdb\n",
    "from keras.preprocessing import sequence\n",
    "\n",
    "max_features = 10000\n",
    "maxlen = 500\n",
    "batch_size = 32\n",
    "print('Loading data...')\n",
    "(input_train, y_train), (input_test, y_test) = imdb.load_data(num_words=max_features)\n",
    "print(len(input_train), 'train sequences')\n",
    "print(len(input_test), 'test sequences')\n",
    "print('Pad sequences (samples x time)')\n",
    "input_train = sequence.pad_sequences(input_train, maxlen=maxlen)\n",
    "input_test = sequence.pad_sequences(input_test, maxlen=maxlen)\n",
    "print('input_train shape:', input_train.shape)\n",
    "print('input_test shape:', input_test.shape)"
   ]
  },
  {
   "cell_type": "markdown",
   "metadata": {},
   "source": [
    "### Training the model with Embedding and SimpleRNN layers"
   ]
  },
  {
   "cell_type": "code",
   "execution_count": 8,
   "metadata": {},
   "outputs": [
    {
     "name": "stdout",
     "output_type": "stream",
     "text": [
      "_________________________________________________________________\n",
      "Layer (type)                 Output Shape              Param #   \n",
      "=================================================================\n",
      "embedding_1 (Embedding)      (None, None, 32)          320000    \n",
      "_________________________________________________________________\n",
      "simple_rnn_1 (SimpleRNN)     (None, 32)                2080      \n",
      "_________________________________________________________________\n",
      "dense_1 (Dense)              (None, 1)                 33        \n",
      "=================================================================\n",
      "Total params: 322,113\n",
      "Trainable params: 322,113\n",
      "Non-trainable params: 0\n",
      "_________________________________________________________________\n",
      "Train on 20000 samples, validate on 5000 samples\n",
      "Epoch 1/10\n",
      "20000/20000 [==============================] - 45s - loss: 0.6547 - acc: 0.6064 - val_loss: 0.5241 - val_acc: 0.7508\n",
      "Epoch 2/10\n",
      "20000/20000 [==============================] - 47s - loss: 0.4138 - acc: 0.8257 - val_loss: 0.3695 - val_acc: 0.8474\n",
      "Epoch 3/10\n",
      "20000/20000 [==============================] - 40s - loss: 0.2807 - acc: 0.8900 - val_loss: 0.4300 - val_acc: 0.8146\n",
      "Epoch 4/10\n",
      "20000/20000 [==============================] - 37s - loss: 0.1939 - acc: 0.9272 - val_loss: 0.4334 - val_acc: 0.7984\n",
      "Epoch 5/10\n",
      "20000/20000 [==============================] - 45s - loss: 0.1350 - acc: 0.9524 - val_loss: 0.4377 - val_acc: 0.8368\n",
      "Epoch 6/10\n",
      "20000/20000 [==============================] - 47s - loss: 0.0911 - acc: 0.9696 - val_loss: 0.5541 - val_acc: 0.7888\n",
      "Epoch 7/10\n",
      "20000/20000 [==============================] - 46s - loss: 0.0591 - acc: 0.9811 - val_loss: 0.5931 - val_acc: 0.8078\n",
      "Epoch 8/10\n",
      "20000/20000 [==============================] - 46s - loss: 0.0417 - acc: 0.9873 - val_loss: 0.6173 - val_acc: 0.8142\n",
      "Epoch 9/10\n",
      "20000/20000 [==============================] - 43s - loss: 0.0357 - acc: 0.9904 - val_loss: 0.6468 - val_acc: 0.8180\n",
      "Epoch 10/10\n",
      "20000/20000 [==============================] - 39s - loss: 0.0252 - acc: 0.9922 - val_loss: 0.6346 - val_acc: 0.8226\n"
     ]
    }
   ],
   "source": [
    "from keras.layers import Dense\n",
    "from keras.layers import Embedding, SimpleRNN\n",
    "\n",
    "model = models.Sequential()\n",
    "model.add(Embedding(max_features, 32))\n",
    "model.add(SimpleRNN(32))\n",
    "model.add(Dense(1, activation='sigmoid'))\n",
    "model.summary()\n",
    "model.compile(optimizer='rmsprop', loss='binary_crossentropy', metrics=['acc'])\n",
    "history = model.fit(input_train, y_train, \n",
    "                    epochs=10,\n",
    "                    batch_size=128,\n",
    "                    validation_split=0.2)\n"
   ]
  },
  {
   "cell_type": "code",
   "execution_count": 9,
   "metadata": {},
   "outputs": [
    {
     "data": {
      "text/plain": [
       "<Figure size 640x480 with 1 Axes>"
      ]
     },
     "metadata": {},
     "output_type": "display_data"
    },
    {
     "data": {
      "text/plain": [
       "<Figure size 640x480 with 1 Axes>"
      ]
     },
     "metadata": {},
     "output_type": "display_data"
    }
   ],
   "source": [
    "import matplotlib.pyplot as plt\n",
    "\n",
    "acc = history.history['acc']\n",
    "val_acc = history.history['val_acc']\n",
    "loss = history.history['loss']\n",
    "val_loss = history.history['val_loss']\n",
    "\n",
    "epochs = range(1, len(acc) + 1)\n",
    "\n",
    "plt.plot(epochs, acc, 'bo', label='Training acc')\n",
    "plt.plot(epochs, val_acc, 'b', label='Validation acc')\n",
    "plt.title('Training and validation accuracy')\n",
    "plt.legend()\n",
    "\n",
    "plt.figure()\n",
    "\n",
    "plt.plot(epochs, loss, 'bo', label='Training loss')\n",
    "plt.plot(epochs, val_loss, 'b', label='Validation loss')\n",
    "plt.title('Training and validation loss')\n",
    "plt.legend()\n",
    "\n",
    "plt.show()"
   ]
  },
  {
   "cell_type": "markdown",
   "metadata": {},
   "source": [
    "### Training the model with Embedding and SimpleRNN layers"
   ]
  },
  {
   "cell_type": "code",
   "execution_count": 11,
   "metadata": {},
   "outputs": [
    {
     "name": "stdout",
     "output_type": "stream",
     "text": [
      "Train on 20000 samples, validate on 5000 samples\n",
      "Epoch 1/10\n",
      "20000/20000 [==============================] - 200s - loss: 0.5176 - acc: 0.7556 - val_loss: 0.3417 - val_acc: 0.8658\n",
      "Epoch 2/10\n",
      "20000/20000 [==============================] - 206s - loss: 0.2902 - acc: 0.8875 - val_loss: 0.3449 - val_acc: 0.8648\n",
      "Epoch 3/10\n",
      "20000/20000 [==============================] - 225s - loss: 0.2390 - acc: 0.9099 - val_loss: 0.4151 - val_acc: 0.8290\n",
      "Epoch 4/10\n",
      "20000/20000 [==============================] - 228s - loss: 0.1995 - acc: 0.9259 - val_loss: 0.4261 - val_acc: 0.8636\n",
      "Epoch 5/10\n",
      "20000/20000 [==============================] - 228s - loss: 0.1780 - acc: 0.9343 - val_loss: 0.4452 - val_acc: 0.8346\n",
      "Epoch 6/10\n",
      "20000/20000 [==============================] - 229s - loss: 0.1596 - acc: 0.9435 - val_loss: 0.2949 - val_acc: 0.8790\n",
      "Epoch 7/10\n",
      "20000/20000 [==============================] - 227s - loss: 0.1470 - acc: 0.9469 - val_loss: 0.3280 - val_acc: 0.8672\n",
      "Epoch 8/10\n",
      "20000/20000 [==============================] - 222s - loss: 0.1351 - acc: 0.9514 - val_loss: 0.3348 - val_acc: 0.8682\n",
      "Epoch 9/10\n",
      "20000/20000 [==============================] - 225s - loss: 0.1228 - acc: 0.9561 - val_loss: 0.3933 - val_acc: 0.8694\n",
      "Epoch 10/10\n",
      "20000/20000 [==============================] - 224s - loss: 0.1104 - acc: 0.9610 - val_loss: 0.4051 - val_acc: 0.8594\n"
     ]
    }
   ],
   "source": [
    "from keras.layers import LSTM\n",
    "\n",
    "model = models.Sequential()\n",
    "model.add(Embedding(max_features, 32))\n",
    "model.add(LSTM(32))\n",
    "model.add(Dense(1, activation='sigmoid'))\n",
    "model.compile(optimizer='rmsprop',\n",
    "loss='binary_crossentropy',\n",
    "metrics=['acc'])\n",
    "history = model.fit(input_train, y_train,\n",
    "                    epochs=10,\n",
    "                    batch_size=128,\n",
    "                    validation_split=0.2)"
   ]
  },
  {
   "cell_type": "code",
   "execution_count": 12,
   "metadata": {},
   "outputs": [
    {
     "data": {
      "image/png": "[encoded data removed]",
      "text/plain": [
       "<Figure size 432x288 with 1 Axes>"
      ]
     },
     "metadata": {
      "needs_background": "light"
     },
     "output_type": "display_data"
    },
    {
     "data": {
      "image/png": "[encoded data removed]",
      "text/plain": [
       "<Figure size 432x288 with 1 Axes>"
      ]
     },
     "metadata": {
      "needs_background": "light"
     },
     "output_type": "display_data"
    }
   ],
   "source": [
    "import matplotlib.pyplot as plt\n",
    "\n",
    "acc = history.history['acc']\n",
    "val_acc = history.history['val_acc']\n",
    "loss = history.history['loss']\n",
    "val_loss = history.history['val_loss']\n",
    "\n",
    "epochs = range(1, len(acc) + 1)\n",
    "\n",
    "plt.plot(epochs, acc, 'bo', label='Training acc')\n",
    "plt.plot(epochs, val_acc, 'b', label='Validation acc')\n",
    "plt.title('Training and validation accuracy')\n",
    "plt.legend()\n",
    "\n",
    "plt.figure()\n",
    "\n",
    "plt.plot(epochs, loss, 'bo', label='Training loss')\n",
    "plt.plot(epochs, val_loss, 'b', label='Validation loss')\n",
    "plt.title('Training and validation loss')\n",
    "plt.legend()\n",
    "\n",
    "plt.show()"
   ]
  },
  {
   "cell_type": "markdown",
   "metadata": {},
   "source": [
    "# Trying Different parameters"
   ]
  },
  {
   "cell_type": "code",
   "execution_count": 13,
   "metadata": {},
   "outputs": [
    {
     "name": "stdout",
     "output_type": "stream",
     "text": [
      "_________________________________________________________________\n",
      "Layer (type)                 Output Shape              Param #   \n",
      "=================================================================\n",
      "embedding_3 (Embedding)      (None, None, 32)          320000    \n",
      "_________________________________________________________________\n",
      "simple_rnn_2 (SimpleRNN)     (None, 32)                2080      \n",
      "_________________________________________________________________\n",
      "dense_3 (Dense)              (None, 1)                 33        \n",
      "=================================================================\n",
      "Total params: 322,113\n",
      "Trainable params: 322,113\n",
      "Non-trainable params: 0\n",
      "_________________________________________________________________\n",
      "Train on 20000 samples, validate on 5000 samples\n",
      "Epoch 1/20\n",
      "20000/20000 [==============================] - 65s - loss: 0.6027 - acc: 0.6488 - val_loss: 0.4018 - val_acc: 0.8310\n",
      "Epoch 2/20\n",
      "20000/20000 [==============================] - 65s - loss: 0.3541 - acc: 0.8534 - val_loss: 0.4390 - val_acc: 0.8172\n",
      "Epoch 3/20\n",
      "20000/20000 [==============================] - 64s - loss: 0.2689 - acc: 0.8941 - val_loss: 0.3504 - val_acc: 0.8660\n",
      "Epoch 4/20\n",
      "20000/20000 [==============================] - 65s - loss: 0.2076 - acc: 0.9205 - val_loss: 0.3532 - val_acc: 0.8706\n",
      "Epoch 5/20\n",
      "20000/20000 [==============================] - 64s - loss: 0.1603 - acc: 0.9397 - val_loss: 0.4062 - val_acc: 0.8454\n",
      "Epoch 6/20\n",
      "20000/20000 [==============================] - 64s - loss: 0.1162 - acc: 0.9588 - val_loss: 0.4539 - val_acc: 0.8370\n",
      "Epoch 7/20\n",
      "20000/20000 [==============================] - 64s - loss: 0.0846 - acc: 0.9709 - val_loss: 0.5201 - val_acc: 0.8112\n",
      "Epoch 8/20\n",
      "20000/20000 [==============================] - 64s - loss: 0.0528 - acc: 0.9823 - val_loss: 0.5987 - val_acc: 0.8168\n",
      "Epoch 9/20\n",
      "20000/20000 [==============================] - 64s - loss: 0.0403 - acc: 0.9869 - val_loss: 0.6055 - val_acc: 0.8484\n",
      "Epoch 10/20\n",
      "20000/20000 [==============================] - 64s - loss: 0.0310 - acc: 0.9895 - val_loss: 0.6466 - val_acc: 0.8290\n",
      "Epoch 11/20\n",
      "20000/20000 [==============================] - 65s - loss: 0.0202 - acc: 0.9940 - val_loss: 0.7424 - val_acc: 0.7998\n",
      "Epoch 12/20\n",
      "20000/20000 [==============================] - 65s - loss: 0.0166 - acc: 0.9950 - val_loss: 0.7018 - val_acc: 0.8344\n",
      "Epoch 13/20\n",
      "20000/20000 [==============================] - 64s - loss: 0.0130 - acc: 0.9959 - val_loss: 0.8018 - val_acc: 0.7958\n",
      "Epoch 14/20\n",
      "20000/20000 [==============================] - 64s - loss: 0.0105 - acc: 0.9970 - val_loss: 0.8552 - val_acc: 0.7880\n",
      "Epoch 15/20\n",
      "20000/20000 [==============================] - 63s - loss: 0.0113 - acc: 0.9963 - val_loss: 0.9570 - val_acc: 0.7718\n",
      "Epoch 16/20\n",
      "20000/20000 [==============================] - 64s - loss: 0.0090 - acc: 0.9973 - val_loss: 1.0297 - val_acc: 0.7556\n",
      "Epoch 17/20\n",
      "20000/20000 [==============================] - 64s - loss: 0.0069 - acc: 0.9978 - val_loss: 0.9788 - val_acc: 0.7800\n",
      "Epoch 18/20\n",
      "20000/20000 [==============================] - 64s - loss: 0.0045 - acc: 0.9988 - val_loss: 1.0606 - val_acc: 0.7808\n",
      "Epoch 19/20\n",
      "20000/20000 [==============================] - 63s - loss: 0.0044 - acc: 0.9987 - val_loss: 1.0338 - val_acc: 0.8036\n",
      "Epoch 20/20\n",
      "20000/20000 [==============================] - 63s - loss: 0.0055 - acc: 0.9983 - val_loss: 1.2371 - val_acc: 0.7500\n"
     ]
    }
   ],
   "source": [
    "from keras.layers import Dense\n",
    "from keras.layers import Embedding, SimpleRNN\n",
    "\n",
    "model = models.Sequential()\n",
    "model.add(Embedding(max_features, 32))\n",
    "model.add(SimpleRNN(32))\n",
    "model.add(Dense(1, activation='sigmoid'))\n",
    "model.summary()\n",
    "model.compile(optimizer='rmsprop', loss='binary_crossentropy', metrics=['acc'])\n",
    "history = model.fit(input_train, y_train, \n",
    "                    epochs=20,\n",
    "                    batch_size=64,\n",
    "                    validation_split=0.2)\n"
   ]
  },
  {
   "cell_type": "code",
   "execution_count": 14,
   "metadata": {},
   "outputs": [
    {
     "data": {
      "image/png": "[encoded data removed]",
      "text/plain": [
       "<Figure size 432x288 with 1 Axes>"
      ]
     },
     "metadata": {
      "needs_background": "light"
     },
     "output_type": "display_data"
    },
    {
     "data": {
      "image/png": "[encoded data removed]",
      "text/plain": [
       "<Figure size 432x288 with 1 Axes>"
      ]
     },
     "metadata": {
      "needs_background": "light"
     },
     "output_type": "display_data"
    }
   ],
   "source": [
    "import matplotlib.pyplot as plt\n",
    "\n",
    "acc = history.history['acc']\n",
    "val_acc = history.history['val_acc']\n",
    "loss = history.history['loss']\n",
    "val_loss = history.history['val_loss']\n",
    "\n",
    "epochs = range(1, len(acc) + 1)\n",
    "\n",
    "plt.plot(epochs, acc, 'bo', label='Training acc')\n",
    "plt.plot(epochs, val_acc, 'b', label='Validation acc')\n",
    "plt.title('Training and validation accuracy')\n",
    "plt.legend()\n",
    "\n",
    "plt.figure()\n",
    "\n",
    "plt.plot(epochs, loss, 'bo', label='Training loss')\n",
    "plt.plot(epochs, val_loss, 'b', label='Validation loss')\n",
    "plt.title('Training and validation loss')\n",
    "plt.legend()\n",
    "\n",
    "plt.show()"
   ]
  },
  {
   "cell_type": "markdown",
   "metadata": {},
   "source": [
    "# Trying with LSTM and different parameters"
   ]
  },
  {
   "cell_type": "code",
   "execution_count": 15,
   "metadata": {},
   "outputs": [
    {
     "name": "stdout",
     "output_type": "stream",
     "text": [
      "Train on 20000 samples, validate on 5000 samples\n",
      "Epoch 1/20\n",
      "20000/20000 [==============================] - 298s - loss: 0.4938 - acc: 0.7591 - val_loss: 0.4915 - val_acc: 0.7852\n",
      "Epoch 2/20\n",
      "20000/20000 [==============================] - 295s - loss: 0.2870 - acc: 0.8876 - val_loss: 0.4135 - val_acc: 0.8286\n",
      "Epoch 3/20\n",
      "20000/20000 [==============================] - 293s - loss: 0.2290 - acc: 0.9153 - val_loss: 0.3038 - val_acc: 0.8820\n",
      "Epoch 4/20\n",
      "20000/20000 [==============================] - 291s - loss: 0.1918 - acc: 0.9294 - val_loss: 0.3170 - val_acc: 0.8702\n",
      "Epoch 5/20\n",
      "20000/20000 [==============================] - 290s - loss: 0.1747 - acc: 0.9360 - val_loss: 0.2932 - val_acc: 0.8902\n",
      "Epoch 6/20\n",
      "20000/20000 [==============================] - 289s - loss: 0.1558 - acc: 0.9431 - val_loss: 0.4119 - val_acc: 0.8476\n",
      "Epoch 7/20\n",
      "20000/20000 [==============================] - 288s - loss: 0.1430 - acc: 0.9488 - val_loss: 0.2992 - val_acc: 0.8824\n",
      "Epoch 8/20\n",
      "20000/20000 [==============================] - 290s - loss: 0.1293 - acc: 0.9540 - val_loss: 0.3112 - val_acc: 0.8868\n",
      "Epoch 9/20\n",
      "20000/20000 [==============================] - 286s - loss: 0.1179 - acc: 0.9587 - val_loss: 0.3230 - val_acc: 0.8838\n",
      "Epoch 10/20\n",
      "20000/20000 [==============================] - 285s - loss: 0.1085 - acc: 0.9619 - val_loss: 0.3847 - val_acc: 0.8840\n",
      "Epoch 11/20\n",
      "20000/20000 [==============================] - 284s - loss: 0.1036 - acc: 0.9639 - val_loss: 0.3430 - val_acc: 0.8788\n",
      "Epoch 12/20\n",
      "20000/20000 [==============================] - 283s - loss: 0.0940 - acc: 0.9678 - val_loss: 0.3368 - val_acc: 0.8848\n",
      "Epoch 13/20\n",
      "20000/20000 [==============================] - 282s - loss: 0.0863 - acc: 0.9708 - val_loss: 0.5399 - val_acc: 0.8516\n",
      "Epoch 14/20\n",
      "20000/20000 [==============================] - 280s - loss: 0.0803 - acc: 0.9727 - val_loss: 0.3532 - val_acc: 0.8734\n",
      "Epoch 15/20\n",
      "20000/20000 [==============================] - 281s - loss: 0.0732 - acc: 0.9751 - val_loss: 0.3851 - val_acc: 0.8806\n",
      "Epoch 16/20\n",
      "20000/20000 [==============================] - 280s - loss: 0.0669 - acc: 0.9784 - val_loss: 0.4893 - val_acc: 0.8816\n",
      "Epoch 17/20\n",
      "20000/20000 [==============================] - 278s - loss: 0.0631 - acc: 0.9795 - val_loss: 0.3824 - val_acc: 0.8666\n",
      "Epoch 18/20\n",
      "20000/20000 [==============================] - 278s - loss: 0.0594 - acc: 0.9806 - val_loss: 0.4007 - val_acc: 0.8824\n",
      "Epoch 19/20\n",
      "20000/20000 [==============================] - 279s - loss: 0.0522 - acc: 0.9832 - val_loss: 0.4555 - val_acc: 0.8728\n",
      "Epoch 20/20\n",
      "20000/20000 [==============================] - 278s - loss: 0.0501 - acc: 0.9832 - val_loss: 0.5104 - val_acc: 0.8740\n"
     ]
    }
   ],
   "source": [
    "from keras.layers import LSTM\n",
    "\n",
    "model = models.Sequential()\n",
    "model.add(Embedding(max_features, 32))\n",
    "model.add(LSTM(32))\n",
    "model.add(Dense(1, activation='sigmoid'))\n",
    "model.compile(optimizer='rmsprop',\n",
    "loss='binary_crossentropy',\n",
    "metrics=['acc'])\n",
    "history = model.fit(input_train, y_train,\n",
    "                    epochs=20,\n",
    "                    batch_size=64,\n",
    "                    validation_split=0.2)"
   ]
  },
  {
   "cell_type": "code",
   "execution_count": 16,
   "metadata": {},
   "outputs": [
    {
     "data": {
      "image/png": "[encoded data removed]",
      "text/plain": [
       "<Figure size 432x288 with 1 Axes>"
      ]
     },
     "metadata": {
      "needs_background": "light"
     },
     "output_type": "display_data"
    },
    {
     "data": {
      "image/png": "[encoded data removed]",
      "text/plain": [
       "<Figure size 432x288 with 1 Axes>"
      ]
     },
     "metadata": {
      "needs_background": "light"
     },
     "output_type": "display_data"
    }
   ],
   "source": [
    "import matplotlib.pyplot as plt\n",
    "\n",
    "acc = history.history['acc']\n",
    "val_acc = history.history['val_acc']\n",
    "loss = history.history['loss']\n",
    "val_loss = history.history['val_loss']\n",
    "\n",
    "epochs = range(1, len(acc) + 1)\n",
    "\n",
    "plt.plot(epochs, acc, 'bo', label='Training acc')\n",
    "plt.plot(epochs, val_acc, 'b', label='Validation acc')\n",
    "plt.title('Training and validation accuracy')\n",
    "plt.legend()\n",
    "\n",
    "plt.figure()\n",
    "\n",
    "plt.plot(epochs, loss, 'bo', label='Training loss')\n",
    "plt.plot(epochs, val_loss, 'b', label='Validation loss')\n",
    "plt.title('Training and validation loss')\n",
    "plt.legend()\n",
    "\n",
    "plt.show()"
   ]
  },
  {
   "cell_type": "code",
   "execution_count": null,
   "metadata": {},
   "outputs": [],
   "source": []
  }
 ],
 "metadata": {
  "kernelspec": {
   "display_name": "Python 3",
   "language": "python",
   "name": "python3"
  },
  "language_info": {
   "codemirror_mode": {
    "name": "ipython",
    "version": 3
   },
   "file_extension": ".py",
   "mimetype": "text/x-python",
   "name": "python",
   "nbconvert_exporter": "python",
   "pygments_lexer": "ipython3",
   "version": "3.6.8"
  }
 },
 "nbformat": 4,
 "nbformat_minor": 2
}
